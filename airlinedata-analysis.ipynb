{
 "cells": [
  {
   "cell_type": "code",
   "execution_count": 1,
   "id": "1760ec73",
   "metadata": {
    "_cell_guid": "b1076dfc-b9ad-4769-8c92-a6c4dae69d19",
    "_uuid": "8f2839f25d086af736a60e9eeb907d3b93b6e0e5",
    "execution": {
     "iopub.execute_input": "2024-05-01T03:56:40.236888Z",
     "iopub.status.busy": "2024-05-01T03:56:40.235836Z",
     "iopub.status.idle": "2024-05-01T03:56:41.376827Z",
     "shell.execute_reply": "2024-05-01T03:56:41.374078Z"
    },
    "papermill": {
     "duration": 1.155622,
     "end_time": "2024-05-01T03:56:41.382184",
     "exception": false,
     "start_time": "2024-05-01T03:56:40.226562",
     "status": "completed"
    },
    "tags": []
   },
   "outputs": [
    {
     "name": "stdout",
     "output_type": "stream",
     "text": [
      "/kaggle/input/airline-dataset/Airline Dataset Updated.csv\n",
      "/kaggle/input/airline-dataset/Airline Dataset Updated - v2.csv\n",
      "/kaggle/input/airline-dataset/Airline Dataset.csv\n"
     ]
    }
   ],
   "source": [
    "# This Python 3 environment comes with many helpful analytics libraries installed\n",
    "# It is defined by the kaggle/python Docker image: https://github.com/kaggle/docker-python\n",
    "# For example, here's several helpful packages to load\n",
    "\n",
    "import numpy as np # linear algebra\n",
    "import pandas as pd # data processing, CSV file I/O (e.g. pd.read_csv)\n",
    "\n",
    "# Input data files are available in the read-only \"../input/\" directory\n",
    "# For example, running this (by clicking run or pressing Shift+Enter) will list all files under the input directory\n",
    "\n",
    "import os\n",
    "for dirname, _, filenames in os.walk('/kaggle/input'):\n",
    "    for filename in filenames:\n",
    "        print(os.path.join(dirname, filename))\n",
    "\n",
    "# You can write up to 20GB to the current directory (/kaggle/working/) that gets preserved as output when you create a version using \"Save & Run All\" \n",
    "# You can also write temporary files to /kaggle/temp/, but they won't be saved outside of the current session"
   ]
  },
  {
   "cell_type": "code",
   "execution_count": 2,
   "id": "3240467c",
   "metadata": {
    "execution": {
     "iopub.execute_input": "2024-05-01T03:56:41.400308Z",
     "iopub.status.busy": "2024-05-01T03:56:41.399732Z",
     "iopub.status.idle": "2024-05-01T03:56:41.977275Z",
     "shell.execute_reply": "2024-05-01T03:56:41.975511Z"
    },
    "papermill": {
     "duration": 0.589117,
     "end_time": "2024-05-01T03:56:41.979795",
     "exception": false,
     "start_time": "2024-05-01T03:56:41.390678",
     "status": "completed"
    },
    "tags": []
   },
   "outputs": [
    {
     "data": {
      "text/html": [
       "<div>\n",
       "<style scoped>\n",
       "    .dataframe tbody tr th:only-of-type {\n",
       "        vertical-align: middle;\n",
       "    }\n",
       "\n",
       "    .dataframe tbody tr th {\n",
       "        vertical-align: top;\n",
       "    }\n",
       "\n",
       "    .dataframe thead th {\n",
       "        text-align: right;\n",
       "    }\n",
       "</style>\n",
       "<table border=\"1\" class=\"dataframe\">\n",
       "  <thead>\n",
       "    <tr style=\"text-align: right;\">\n",
       "      <th></th>\n",
       "      <th>Passenger ID</th>\n",
       "      <th>First Name</th>\n",
       "      <th>Last Name</th>\n",
       "      <th>Gender</th>\n",
       "      <th>Age</th>\n",
       "      <th>Nationality</th>\n",
       "      <th>Airport Name</th>\n",
       "      <th>Airport Country Code</th>\n",
       "      <th>Country Name</th>\n",
       "      <th>Airport Continent</th>\n",
       "      <th>Continents</th>\n",
       "      <th>Departure Date</th>\n",
       "      <th>Arrival Airport</th>\n",
       "      <th>Pilot Name</th>\n",
       "      <th>Flight Status</th>\n",
       "    </tr>\n",
       "  </thead>\n",
       "  <tbody>\n",
       "    <tr>\n",
       "      <th>0</th>\n",
       "      <td>ABVWIg</td>\n",
       "      <td>Edithe</td>\n",
       "      <td>Leggis</td>\n",
       "      <td>Female</td>\n",
       "      <td>62</td>\n",
       "      <td>Japan</td>\n",
       "      <td>Coldfoot Airport</td>\n",
       "      <td>US</td>\n",
       "      <td>United States</td>\n",
       "      <td>NAM</td>\n",
       "      <td>North America</td>\n",
       "      <td>6/28/2022</td>\n",
       "      <td>CXF</td>\n",
       "      <td>Edithe Leggis</td>\n",
       "      <td>On Time</td>\n",
       "    </tr>\n",
       "    <tr>\n",
       "      <th>1</th>\n",
       "      <td>jkXXAX</td>\n",
       "      <td>Elwood</td>\n",
       "      <td>Catt</td>\n",
       "      <td>Male</td>\n",
       "      <td>62</td>\n",
       "      <td>Nicaragua</td>\n",
       "      <td>Kugluktuk Airport</td>\n",
       "      <td>CA</td>\n",
       "      <td>Canada</td>\n",
       "      <td>NAM</td>\n",
       "      <td>North America</td>\n",
       "      <td>12/26/2022</td>\n",
       "      <td>YCO</td>\n",
       "      <td>Elwood Catt</td>\n",
       "      <td>On Time</td>\n",
       "    </tr>\n",
       "    <tr>\n",
       "      <th>2</th>\n",
       "      <td>CdUz2g</td>\n",
       "      <td>Darby</td>\n",
       "      <td>Felgate</td>\n",
       "      <td>Male</td>\n",
       "      <td>67</td>\n",
       "      <td>Russia</td>\n",
       "      <td>Grenoble-Isère Airport</td>\n",
       "      <td>FR</td>\n",
       "      <td>France</td>\n",
       "      <td>EU</td>\n",
       "      <td>Europe</td>\n",
       "      <td>1/18/2022</td>\n",
       "      <td>GNB</td>\n",
       "      <td>Darby Felgate</td>\n",
       "      <td>On Time</td>\n",
       "    </tr>\n",
       "    <tr>\n",
       "      <th>3</th>\n",
       "      <td>BRS38V</td>\n",
       "      <td>Dominica</td>\n",
       "      <td>Pyle</td>\n",
       "      <td>Female</td>\n",
       "      <td>71</td>\n",
       "      <td>China</td>\n",
       "      <td>Ottawa / Gatineau Airport</td>\n",
       "      <td>CA</td>\n",
       "      <td>Canada</td>\n",
       "      <td>NAM</td>\n",
       "      <td>North America</td>\n",
       "      <td>9/16/2022</td>\n",
       "      <td>YND</td>\n",
       "      <td>Dominica Pyle</td>\n",
       "      <td>Delayed</td>\n",
       "    </tr>\n",
       "    <tr>\n",
       "      <th>4</th>\n",
       "      <td>9kvTLo</td>\n",
       "      <td>Bay</td>\n",
       "      <td>Pencost</td>\n",
       "      <td>Male</td>\n",
       "      <td>21</td>\n",
       "      <td>China</td>\n",
       "      <td>Gillespie Field</td>\n",
       "      <td>US</td>\n",
       "      <td>United States</td>\n",
       "      <td>NAM</td>\n",
       "      <td>North America</td>\n",
       "      <td>2/25/2022</td>\n",
       "      <td>SEE</td>\n",
       "      <td>Bay Pencost</td>\n",
       "      <td>On Time</td>\n",
       "    </tr>\n",
       "  </tbody>\n",
       "</table>\n",
       "</div>"
      ],
      "text/plain": [
       "  Passenger ID First Name Last Name  Gender  Age Nationality  \\\n",
       "0       ABVWIg     Edithe    Leggis  Female   62       Japan   \n",
       "1       jkXXAX     Elwood      Catt    Male   62   Nicaragua   \n",
       "2       CdUz2g      Darby   Felgate    Male   67      Russia   \n",
       "3       BRS38V   Dominica      Pyle  Female   71       China   \n",
       "4       9kvTLo        Bay   Pencost    Male   21       China   \n",
       "\n",
       "                Airport Name Airport Country Code   Country Name  \\\n",
       "0           Coldfoot Airport                   US  United States   \n",
       "1          Kugluktuk Airport                   CA         Canada   \n",
       "2     Grenoble-Isère Airport                   FR         France   \n",
       "3  Ottawa / Gatineau Airport                   CA         Canada   \n",
       "4            Gillespie Field                   US  United States   \n",
       "\n",
       "  Airport Continent     Continents Departure Date Arrival Airport  \\\n",
       "0               NAM  North America      6/28/2022             CXF   \n",
       "1               NAM  North America     12/26/2022             YCO   \n",
       "2                EU         Europe      1/18/2022             GNB   \n",
       "3               NAM  North America      9/16/2022             YND   \n",
       "4               NAM  North America      2/25/2022             SEE   \n",
       "\n",
       "      Pilot Name Flight Status  \n",
       "0  Edithe Leggis       On Time  \n",
       "1    Elwood Catt       On Time  \n",
       "2  Darby Felgate       On Time  \n",
       "3  Dominica Pyle       Delayed  \n",
       "4    Bay Pencost       On Time  "
      ]
     },
     "execution_count": 2,
     "metadata": {},
     "output_type": "execute_result"
    }
   ],
   "source": [
    "df=pd.read_csv('/kaggle/input/airline-dataset/Airline Dataset Updated.csv')\n",
    "df.head()"
   ]
  },
  {
   "cell_type": "code",
   "execution_count": 3,
   "id": "9e804345",
   "metadata": {
    "execution": {
     "iopub.execute_input": "2024-05-01T03:56:41.997181Z",
     "iopub.status.busy": "2024-05-01T03:56:41.996727Z",
     "iopub.status.idle": "2024-05-01T03:56:42.074758Z",
     "shell.execute_reply": "2024-05-01T03:56:42.073235Z"
    },
    "papermill": {
     "duration": 0.092141,
     "end_time": "2024-05-01T03:56:42.079430",
     "exception": false,
     "start_time": "2024-05-01T03:56:41.987289",
     "status": "completed"
    },
    "tags": []
   },
   "outputs": [
    {
     "name": "stdout",
     "output_type": "stream",
     "text": [
      "<class 'pandas.core.frame.DataFrame'>\n",
      "RangeIndex: 98619 entries, 0 to 98618\n",
      "Data columns (total 15 columns):\n",
      " #   Column                Non-Null Count  Dtype \n",
      "---  ------                --------------  ----- \n",
      " 0   Passenger ID          98619 non-null  object\n",
      " 1   First Name            98619 non-null  object\n",
      " 2   Last Name             98619 non-null  object\n",
      " 3   Gender                98619 non-null  object\n",
      " 4   Age                   98619 non-null  int64 \n",
      " 5   Nationality           98619 non-null  object\n",
      " 6   Airport Name          98619 non-null  object\n",
      " 7   Airport Country Code  98619 non-null  object\n",
      " 8   Country Name          98619 non-null  object\n",
      " 9   Airport Continent     98619 non-null  object\n",
      " 10  Continents            98619 non-null  object\n",
      " 11  Departure Date        98619 non-null  object\n",
      " 12  Arrival Airport       98619 non-null  object\n",
      " 13  Pilot Name            98619 non-null  object\n",
      " 14  Flight Status         98619 non-null  object\n",
      "dtypes: int64(1), object(14)\n",
      "memory usage: 11.3+ MB\n"
     ]
    }
   ],
   "source": [
    "df.info()"
   ]
  },
  {
   "cell_type": "code",
   "execution_count": 4,
   "id": "17b95128",
   "metadata": {
    "execution": {
     "iopub.execute_input": "2024-05-01T03:56:42.097124Z",
     "iopub.status.busy": "2024-05-01T03:56:42.096725Z",
     "iopub.status.idle": "2024-05-01T03:56:42.105401Z",
     "shell.execute_reply": "2024-05-01T03:56:42.103983Z"
    },
    "papermill": {
     "duration": 0.020222,
     "end_time": "2024-05-01T03:56:42.107666",
     "exception": false,
     "start_time": "2024-05-01T03:56:42.087444",
     "status": "completed"
    },
    "tags": []
   },
   "outputs": [
    {
     "data": {
      "text/plain": [
       "Index(['Passenger_ID', 'First_Name', 'Last_Name', 'Gender', 'Age',\n",
       "       'Nationality', 'Airport_Name', 'Airport_Country_Code', 'Country_Name',\n",
       "       'Airport_Continent', 'Continents', 'Departure_Date', 'Arrival_Airport',\n",
       "       'Pilot_Name', 'Flight_Status'],\n",
       "      dtype='object')"
      ]
     },
     "execution_count": 4,
     "metadata": {},
     "output_type": "execute_result"
    }
   ],
   "source": [
    "df.columns = df.columns.str.replace(' ', '_')\n",
    "df.columns"
   ]
  },
  {
   "cell_type": "code",
   "execution_count": 5,
   "id": "44fed476",
   "metadata": {
    "execution": {
     "iopub.execute_input": "2024-05-01T03:56:42.126819Z",
     "iopub.status.busy": "2024-05-01T03:56:42.126453Z",
     "iopub.status.idle": "2024-05-01T03:56:42.202492Z",
     "shell.execute_reply": "2024-05-01T03:56:42.200598Z"
    },
    "papermill": {
     "duration": 0.089761,
     "end_time": "2024-05-01T03:56:42.205115",
     "exception": false,
     "start_time": "2024-05-01T03:56:42.115354",
     "status": "completed"
    },
    "tags": []
   },
   "outputs": [
    {
     "name": "stdout",
     "output_type": "stream",
     "text": [
      "<class 'pandas.core.frame.DataFrame'>\n",
      "RangeIndex: 98619 entries, 0 to 98618\n",
      "Data columns (total 15 columns):\n",
      " #   Column                Non-Null Count  Dtype         \n",
      "---  ------                --------------  -----         \n",
      " 0   Passenger_ID          98619 non-null  object        \n",
      " 1   First_Name            98619 non-null  object        \n",
      " 2   Last_Name             98619 non-null  object        \n",
      " 3   Gender                98619 non-null  object        \n",
      " 4   Age                   98619 non-null  int64         \n",
      " 5   Nationality           98619 non-null  object        \n",
      " 6   Airport_Name          98619 non-null  object        \n",
      " 7   Airport_Country_Code  98619 non-null  object        \n",
      " 8   Country_Name          98619 non-null  object        \n",
      " 9   Airport_Continent     98619 non-null  object        \n",
      " 10  Continents            98619 non-null  object        \n",
      " 11  Departure_Date        98619 non-null  datetime64[ns]\n",
      " 12  Arrival_Airport       98619 non-null  object        \n",
      " 13  Pilot_Name            98619 non-null  object        \n",
      " 14  Flight_Status         98619 non-null  object        \n",
      "dtypes: datetime64[ns](1), int64(1), object(13)\n",
      "memory usage: 11.3+ MB\n"
     ]
    }
   ],
   "source": [
    "df['Departure_Date']=pd.to_datetime(df['Departure_Date'])\n",
    "df.info()"
   ]
  },
  {
   "cell_type": "code",
   "execution_count": 6,
   "id": "0ed290e6",
   "metadata": {
    "execution": {
     "iopub.execute_input": "2024-05-01T03:56:42.223826Z",
     "iopub.status.busy": "2024-05-01T03:56:42.222362Z",
     "iopub.status.idle": "2024-05-01T03:56:42.271990Z",
     "shell.execute_reply": "2024-05-01T03:56:42.270671Z"
    },
    "papermill": {
     "duration": 0.061335,
     "end_time": "2024-05-01T03:56:42.274434",
     "exception": false,
     "start_time": "2024-05-01T03:56:42.213099",
     "status": "completed"
    },
    "tags": []
   },
   "outputs": [
    {
     "data": {
      "text/plain": [
       "Passenger_ID            0\n",
       "First_Name              0\n",
       "Last_Name               0\n",
       "Gender                  0\n",
       "Age                     0\n",
       "Nationality             0\n",
       "Airport_Name            0\n",
       "Airport_Country_Code    0\n",
       "Country_Name            0\n",
       "Airport_Continent       0\n",
       "Continents              0\n",
       "Departure_Date          0\n",
       "Arrival_Airport         0\n",
       "Pilot_Name              0\n",
       "Flight_Status           0\n",
       "dtype: int64"
      ]
     },
     "execution_count": 6,
     "metadata": {},
     "output_type": "execute_result"
    }
   ],
   "source": [
    "df.isnull().sum()"
   ]
  },
  {
   "cell_type": "code",
   "execution_count": 7,
   "id": "cca825a4",
   "metadata": {
    "execution": {
     "iopub.execute_input": "2024-05-01T03:56:42.293448Z",
     "iopub.status.busy": "2024-05-01T03:56:42.291641Z",
     "iopub.status.idle": "2024-05-01T03:56:42.430248Z",
     "shell.execute_reply": "2024-05-01T03:56:42.427799Z"
    },
    "papermill": {
     "duration": 0.150866,
     "end_time": "2024-05-01T03:56:42.433121",
     "exception": false,
     "start_time": "2024-05-01T03:56:42.282255",
     "status": "completed"
    },
    "tags": []
   },
   "outputs": [
    {
     "data": {
      "text/plain": [
       "Passenger_ID            98619\n",
       "First_Name               8437\n",
       "Last_Name               41658\n",
       "Gender                      2\n",
       "Age                        90\n",
       "Nationality               240\n",
       "Airport_Name             9062\n",
       "Airport_Country_Code      235\n",
       "Country_Name              235\n",
       "Airport_Continent           6\n",
       "Continents                  6\n",
       "Departure_Date            364\n",
       "Arrival_Airport          9024\n",
       "Pilot_Name              98610\n",
       "Flight_Status               3\n",
       "dtype: int64"
      ]
     },
     "execution_count": 7,
     "metadata": {},
     "output_type": "execute_result"
    }
   ],
   "source": [
    "df.nunique()"
   ]
  },
  {
   "cell_type": "code",
   "execution_count": 8,
   "id": "fa08230f",
   "metadata": {
    "execution": {
     "iopub.execute_input": "2024-05-01T03:56:42.450995Z",
     "iopub.status.busy": "2024-05-01T03:56:42.450593Z",
     "iopub.status.idle": "2024-05-01T03:56:42.615654Z",
     "shell.execute_reply": "2024-05-01T03:56:42.613231Z"
    },
    "papermill": {
     "duration": 0.177428,
     "end_time": "2024-05-01T03:56:42.618503",
     "exception": false,
     "start_time": "2024-05-01T03:56:42.441075",
     "status": "completed"
    },
    "tags": []
   },
   "outputs": [
    {
     "name": "stdout",
     "output_type": "stream",
     "text": [
      "Empty DataFrame\n",
      "Columns: [Passenger_ID, First_Name, Last_Name, Gender, Age, Nationality, Airport_Name, Airport_Country_Code, Country_Name, Airport_Continent, Continents, Departure_Date, Arrival_Airport, Pilot_Name, Flight_Status]\n",
      "Index: []\n"
     ]
    }
   ],
   "source": [
    "duplicates = df[df.duplicated(keep='first')]\n",
    "print(duplicates)"
   ]
  },
  {
   "cell_type": "code",
   "execution_count": 9,
   "id": "ee802cfa",
   "metadata": {
    "execution": {
     "iopub.execute_input": "2024-05-01T03:56:42.636866Z",
     "iopub.status.busy": "2024-05-01T03:56:42.636465Z",
     "iopub.status.idle": "2024-05-01T03:56:42.656348Z",
     "shell.execute_reply": "2024-05-01T03:56:42.654410Z"
    },
    "papermill": {
     "duration": 0.032454,
     "end_time": "2024-05-01T03:56:42.659073",
     "exception": false,
     "start_time": "2024-05-01T03:56:42.626619",
     "status": "completed"
    },
    "tags": []
   },
   "outputs": [
    {
     "data": {
      "text/html": [
       "<div>\n",
       "<style scoped>\n",
       "    .dataframe tbody tr th:only-of-type {\n",
       "        vertical-align: middle;\n",
       "    }\n",
       "\n",
       "    .dataframe tbody tr th {\n",
       "        vertical-align: top;\n",
       "    }\n",
       "\n",
       "    .dataframe thead th {\n",
       "        text-align: right;\n",
       "    }\n",
       "</style>\n",
       "<table border=\"1\" class=\"dataframe\">\n",
       "  <thead>\n",
       "    <tr style=\"text-align: right;\">\n",
       "      <th></th>\n",
       "      <th>Gender</th>\n",
       "      <th>Age</th>\n",
       "      <th>Passenger_ID</th>\n",
       "    </tr>\n",
       "  </thead>\n",
       "  <tbody>\n",
       "    <tr>\n",
       "      <th>0</th>\n",
       "      <td>Female</td>\n",
       "      <td>62</td>\n",
       "      <td>ABVWIg</td>\n",
       "    </tr>\n",
       "    <tr>\n",
       "      <th>1</th>\n",
       "      <td>Male</td>\n",
       "      <td>62</td>\n",
       "      <td>jkXXAX</td>\n",
       "    </tr>\n",
       "    <tr>\n",
       "      <th>2</th>\n",
       "      <td>Male</td>\n",
       "      <td>67</td>\n",
       "      <td>CdUz2g</td>\n",
       "    </tr>\n",
       "    <tr>\n",
       "      <th>3</th>\n",
       "      <td>Female</td>\n",
       "      <td>71</td>\n",
       "      <td>BRS38V</td>\n",
       "    </tr>\n",
       "    <tr>\n",
       "      <th>4</th>\n",
       "      <td>Male</td>\n",
       "      <td>21</td>\n",
       "      <td>9kvTLo</td>\n",
       "    </tr>\n",
       "    <tr>\n",
       "      <th>...</th>\n",
       "      <td>...</td>\n",
       "      <td>...</td>\n",
       "      <td>...</td>\n",
       "    </tr>\n",
       "    <tr>\n",
       "      <th>98614</th>\n",
       "      <td>Male</td>\n",
       "      <td>85</td>\n",
       "      <td>hnGQ62</td>\n",
       "    </tr>\n",
       "    <tr>\n",
       "      <th>98615</th>\n",
       "      <td>Female</td>\n",
       "      <td>19</td>\n",
       "      <td>2omEzh</td>\n",
       "    </tr>\n",
       "    <tr>\n",
       "      <th>98616</th>\n",
       "      <td>Male</td>\n",
       "      <td>65</td>\n",
       "      <td>VUPiVG</td>\n",
       "    </tr>\n",
       "    <tr>\n",
       "      <th>98617</th>\n",
       "      <td>Female</td>\n",
       "      <td>34</td>\n",
       "      <td>E47NtS</td>\n",
       "    </tr>\n",
       "    <tr>\n",
       "      <th>98618</th>\n",
       "      <td>Female</td>\n",
       "      <td>10</td>\n",
       "      <td>8JYEcz</td>\n",
       "    </tr>\n",
       "  </tbody>\n",
       "</table>\n",
       "<p>98619 rows × 3 columns</p>\n",
       "</div>"
      ],
      "text/plain": [
       "       Gender  Age Passenger_ID\n",
       "0      Female   62       ABVWIg\n",
       "1        Male   62       jkXXAX\n",
       "2        Male   67       CdUz2g\n",
       "3      Female   71       BRS38V\n",
       "4        Male   21       9kvTLo\n",
       "...       ...  ...          ...\n",
       "98614    Male   85       hnGQ62\n",
       "98615  Female   19       2omEzh\n",
       "98616    Male   65       VUPiVG\n",
       "98617  Female   34       E47NtS\n",
       "98618  Female   10       8JYEcz\n",
       "\n",
       "[98619 rows x 3 columns]"
      ]
     },
     "execution_count": 9,
     "metadata": {},
     "output_type": "execute_result"
    }
   ],
   "source": [
    "df[['Gender','Age','Passenger_ID']]"
   ]
  },
  {
   "cell_type": "code",
   "execution_count": 10,
   "id": "7221cfe1",
   "metadata": {
    "execution": {
     "iopub.execute_input": "2024-05-01T03:56:42.676971Z",
     "iopub.status.busy": "2024-05-01T03:56:42.676557Z",
     "iopub.status.idle": "2024-05-01T03:56:44.504831Z",
     "shell.execute_reply": "2024-05-01T03:56:44.502762Z"
    },
    "papermill": {
     "duration": 1.840679,
     "end_time": "2024-05-01T03:56:44.507822",
     "exception": false,
     "start_time": "2024-05-01T03:56:42.667143",
     "status": "completed"
    },
    "tags": []
   },
   "outputs": [],
   "source": [
    "import matplotlib.pyplot as plt\n",
    "import seaborn as sns"
   ]
  },
  {
   "cell_type": "code",
   "execution_count": 11,
   "id": "a81d954a",
   "metadata": {
    "execution": {
     "iopub.execute_input": "2024-05-01T03:56:44.525868Z",
     "iopub.status.busy": "2024-05-01T03:56:44.525489Z",
     "iopub.status.idle": "2024-05-01T03:56:44.880528Z",
     "shell.execute_reply": "2024-05-01T03:56:44.878789Z"
    },
    "papermill": {
     "duration": 0.367935,
     "end_time": "2024-05-01T03:56:44.883912",
     "exception": false,
     "start_time": "2024-05-01T03:56:44.515977",
     "status": "completed"
    },
    "tags": []
   },
   "outputs": [
    {
     "data": {
      "text/plain": [
       "<Axes: xlabel='Gender', ylabel='Age'>"
      ]
     },
     "execution_count": 11,
     "metadata": {},
     "output_type": "execute_result"
    },
    {
     "data": {
      "image/png": "[encoded data removed]",
      "text/plain": [
       "<Figure size 640x480 with 1 Axes>"
      ]
     },
     "metadata": {},
     "output_type": "display_data"
    }
   ],
   "source": [
    "sns.boxplot(x='Gender',y='Age',data=df,hue='Gender')"
   ]
  },
  {
   "cell_type": "code",
   "execution_count": 12,
   "id": "4aecb016",
   "metadata": {
    "execution": {
     "iopub.execute_input": "2024-05-01T03:56:44.903427Z",
     "iopub.status.busy": "2024-05-01T03:56:44.903007Z",
     "iopub.status.idle": "2024-05-01T03:56:44.908723Z",
     "shell.execute_reply": "2024-05-01T03:56:44.906941Z"
    },
    "papermill": {
     "duration": 0.018931,
     "end_time": "2024-05-01T03:56:44.911517",
     "exception": false,
     "start_time": "2024-05-01T03:56:44.892586",
     "status": "completed"
    },
    "tags": []
   },
   "outputs": [],
   "source": [
    "#df[['Gender','Passenger_ID']].groupby('Gender',as_index=False).count().plot(kind='pie',y='Passenger_ID')"
   ]
  },
  {
   "cell_type": "code",
   "execution_count": 13,
   "id": "a0b62074",
   "metadata": {
    "execution": {
     "iopub.execute_input": "2024-05-01T03:56:44.929828Z",
     "iopub.status.busy": "2024-05-01T03:56:44.929441Z",
     "iopub.status.idle": "2024-05-01T03:56:45.052199Z",
     "shell.execute_reply": "2024-05-01T03:56:45.050739Z"
    },
    "papermill": {
     "duration": 0.136223,
     "end_time": "2024-05-01T03:56:45.056002",
     "exception": false,
     "start_time": "2024-05-01T03:56:44.919779",
     "status": "completed"
    },
    "tags": []
   },
   "outputs": [
    {
     "data": {
      "image/png": "[encoded data removed]",
      "text/plain": [
       "<Figure size 640x480 with 1 Axes>"
      ]
     },
     "metadata": {},
     "output_type": "display_data"
    }
   ],
   "source": [
    "# Group the data by 'Gender' and count the number of occurrences\n",
    "gender_counts = df['Gender'].value_counts()\n",
    "\n",
    "# Create a pie chart\n",
    "plt.pie(gender_counts, labels=gender_counts.index, autopct='%1.1f%%', startangle=90)\n",
    "plt.axis('equal')  # Equal aspect ratio ensures that pie is drawn as a circle.\n",
    "\n",
    "plt.title('Gender Distribution')\n",
    "\n",
    "# Show the pie chart\n",
    "plt.show()"
   ]
  },
  {
   "cell_type": "code",
   "execution_count": 14,
   "id": "e70dd3e1",
   "metadata": {
    "execution": {
     "iopub.execute_input": "2024-05-01T03:56:45.083484Z",
     "iopub.status.busy": "2024-05-01T03:56:45.081996Z",
     "iopub.status.idle": "2024-05-01T03:56:45.215499Z",
     "shell.execute_reply": "2024-05-01T03:56:45.214631Z"
    },
    "papermill": {
     "duration": 0.148918,
     "end_time": "2024-05-01T03:56:45.217619",
     "exception": false,
     "start_time": "2024-05-01T03:56:45.068701",
     "status": "completed"
    },
    "tags": []
   },
   "outputs": [
    {
     "data": {
      "image/png": "[encoded data removed]",
      "text/plain": [
       "<Figure size 640x480 with 1 Axes>"
      ]
     },
     "metadata": {},
     "output_type": "display_data"
    }
   ],
   "source": [
    "# Group the data by 'Gender' and count the number of occurrences\n",
    "status_counts = df['Flight_Status'].value_counts()\n",
    "\n",
    "# Create a pie chart\n",
    "plt.pie(status_counts, labels=status_counts.index, autopct='%1.1f%%', startangle=80, wedgeprops=dict(width=0.6))\n",
    "plt.axis('equal')  # Equal aspect ratio ensures that pie is drawn as a circle.\n",
    "\n",
    "plt.title('Gender Distribution')\n",
    "\n",
    "# Show the pie chart\n",
    "plt.show()"
   ]
  },
  {
   "cell_type": "code",
   "execution_count": 15,
   "id": "c8f52320",
   "metadata": {
    "execution": {
     "iopub.execute_input": "2024-05-01T03:56:45.243037Z",
     "iopub.status.busy": "2024-05-01T03:56:45.241669Z",
     "iopub.status.idle": "2024-05-01T03:56:45.266536Z",
     "shell.execute_reply": "2024-05-01T03:56:45.265023Z"
    },
    "papermill": {
     "duration": 0.040335,
     "end_time": "2024-05-01T03:56:45.269097",
     "exception": false,
     "start_time": "2024-05-01T03:56:45.228762",
     "status": "completed"
    },
    "tags": []
   },
   "outputs": [
    {
     "data": {
      "text/html": [
       "<div>\n",
       "<style scoped>\n",
       "    .dataframe tbody tr th:only-of-type {\n",
       "        vertical-align: middle;\n",
       "    }\n",
       "\n",
       "    .dataframe tbody tr th {\n",
       "        vertical-align: top;\n",
       "    }\n",
       "\n",
       "    .dataframe thead th {\n",
       "        text-align: right;\n",
       "    }\n",
       "</style>\n",
       "<table border=\"1\" class=\"dataframe\">\n",
       "  <thead>\n",
       "    <tr style=\"text-align: right;\">\n",
       "      <th></th>\n",
       "      <th>Passenger_ID</th>\n",
       "      <th>First_Name</th>\n",
       "      <th>Last_Name</th>\n",
       "      <th>Gender</th>\n",
       "      <th>Age</th>\n",
       "      <th>Nationality</th>\n",
       "      <th>Airport_Name</th>\n",
       "      <th>Airport_Country_Code</th>\n",
       "      <th>Country_Name</th>\n",
       "      <th>Airport_Continent</th>\n",
       "      <th>Continents</th>\n",
       "      <th>Departure_Date</th>\n",
       "      <th>Arrival_Airport</th>\n",
       "      <th>Pilot_Name</th>\n",
       "      <th>Flight_Status</th>\n",
       "    </tr>\n",
       "  </thead>\n",
       "  <tbody>\n",
       "    <tr>\n",
       "      <th>0</th>\n",
       "      <td>ABVWIg</td>\n",
       "      <td>Edithe</td>\n",
       "      <td>Leggis</td>\n",
       "      <td>Female</td>\n",
       "      <td>62</td>\n",
       "      <td>Japan</td>\n",
       "      <td>Coldfoot Airport</td>\n",
       "      <td>US</td>\n",
       "      <td>United States</td>\n",
       "      <td>NAM</td>\n",
       "      <td>North America</td>\n",
       "      <td>2022-06-28</td>\n",
       "      <td>CXF</td>\n",
       "      <td>Edithe Leggis</td>\n",
       "      <td>On Time</td>\n",
       "    </tr>\n",
       "    <tr>\n",
       "      <th>1</th>\n",
       "      <td>jkXXAX</td>\n",
       "      <td>Elwood</td>\n",
       "      <td>Catt</td>\n",
       "      <td>Male</td>\n",
       "      <td>62</td>\n",
       "      <td>Nicaragua</td>\n",
       "      <td>Kugluktuk Airport</td>\n",
       "      <td>CA</td>\n",
       "      <td>Canada</td>\n",
       "      <td>NAM</td>\n",
       "      <td>North America</td>\n",
       "      <td>2022-12-26</td>\n",
       "      <td>YCO</td>\n",
       "      <td>Elwood Catt</td>\n",
       "      <td>On Time</td>\n",
       "    </tr>\n",
       "    <tr>\n",
       "      <th>2</th>\n",
       "      <td>CdUz2g</td>\n",
       "      <td>Darby</td>\n",
       "      <td>Felgate</td>\n",
       "      <td>Male</td>\n",
       "      <td>67</td>\n",
       "      <td>Russia</td>\n",
       "      <td>Grenoble-Isère Airport</td>\n",
       "      <td>FR</td>\n",
       "      <td>France</td>\n",
       "      <td>EU</td>\n",
       "      <td>Europe</td>\n",
       "      <td>2022-01-18</td>\n",
       "      <td>GNB</td>\n",
       "      <td>Darby Felgate</td>\n",
       "      <td>On Time</td>\n",
       "    </tr>\n",
       "    <tr>\n",
       "      <th>3</th>\n",
       "      <td>BRS38V</td>\n",
       "      <td>Dominica</td>\n",
       "      <td>Pyle</td>\n",
       "      <td>Female</td>\n",
       "      <td>71</td>\n",
       "      <td>China</td>\n",
       "      <td>Ottawa / Gatineau Airport</td>\n",
       "      <td>CA</td>\n",
       "      <td>Canada</td>\n",
       "      <td>NAM</td>\n",
       "      <td>North America</td>\n",
       "      <td>2022-09-16</td>\n",
       "      <td>YND</td>\n",
       "      <td>Dominica Pyle</td>\n",
       "      <td>Delayed</td>\n",
       "    </tr>\n",
       "    <tr>\n",
       "      <th>4</th>\n",
       "      <td>9kvTLo</td>\n",
       "      <td>Bay</td>\n",
       "      <td>Pencost</td>\n",
       "      <td>Male</td>\n",
       "      <td>21</td>\n",
       "      <td>China</td>\n",
       "      <td>Gillespie Field</td>\n",
       "      <td>US</td>\n",
       "      <td>United States</td>\n",
       "      <td>NAM</td>\n",
       "      <td>North America</td>\n",
       "      <td>2022-02-25</td>\n",
       "      <td>SEE</td>\n",
       "      <td>Bay Pencost</td>\n",
       "      <td>On Time</td>\n",
       "    </tr>\n",
       "    <tr>\n",
       "      <th>...</th>\n",
       "      <td>...</td>\n",
       "      <td>...</td>\n",
       "      <td>...</td>\n",
       "      <td>...</td>\n",
       "      <td>...</td>\n",
       "      <td>...</td>\n",
       "      <td>...</td>\n",
       "      <td>...</td>\n",
       "      <td>...</td>\n",
       "      <td>...</td>\n",
       "      <td>...</td>\n",
       "      <td>...</td>\n",
       "      <td>...</td>\n",
       "      <td>...</td>\n",
       "      <td>...</td>\n",
       "    </tr>\n",
       "    <tr>\n",
       "      <th>98614</th>\n",
       "      <td>hnGQ62</td>\n",
       "      <td>Gareth</td>\n",
       "      <td>Mugford</td>\n",
       "      <td>Male</td>\n",
       "      <td>85</td>\n",
       "      <td>China</td>\n",
       "      <td>Hasvik Airport</td>\n",
       "      <td>NO</td>\n",
       "      <td>Norway</td>\n",
       "      <td>EU</td>\n",
       "      <td>Europe</td>\n",
       "      <td>2022-12-11</td>\n",
       "      <td>HAA</td>\n",
       "      <td>Gareth Mugford</td>\n",
       "      <td>Cancelled</td>\n",
       "    </tr>\n",
       "    <tr>\n",
       "      <th>98615</th>\n",
       "      <td>2omEzh</td>\n",
       "      <td>Kasey</td>\n",
       "      <td>Benedict</td>\n",
       "      <td>Female</td>\n",
       "      <td>19</td>\n",
       "      <td>Russia</td>\n",
       "      <td>Ampampamena Airport</td>\n",
       "      <td>MG</td>\n",
       "      <td>Madagascar</td>\n",
       "      <td>AF</td>\n",
       "      <td>Africa</td>\n",
       "      <td>2022-10-30</td>\n",
       "      <td>IVA</td>\n",
       "      <td>Kasey Benedict</td>\n",
       "      <td>Cancelled</td>\n",
       "    </tr>\n",
       "    <tr>\n",
       "      <th>98616</th>\n",
       "      <td>VUPiVG</td>\n",
       "      <td>Darrin</td>\n",
       "      <td>Lucken</td>\n",
       "      <td>Male</td>\n",
       "      <td>65</td>\n",
       "      <td>Indonesia</td>\n",
       "      <td>Albacete-Los Llanos Airport</td>\n",
       "      <td>ES</td>\n",
       "      <td>Spain</td>\n",
       "      <td>EU</td>\n",
       "      <td>Europe</td>\n",
       "      <td>2022-09-10</td>\n",
       "      <td>ABC</td>\n",
       "      <td>Darrin Lucken</td>\n",
       "      <td>On Time</td>\n",
       "    </tr>\n",
       "    <tr>\n",
       "      <th>98617</th>\n",
       "      <td>E47NtS</td>\n",
       "      <td>Gayle</td>\n",
       "      <td>Lievesley</td>\n",
       "      <td>Female</td>\n",
       "      <td>34</td>\n",
       "      <td>China</td>\n",
       "      <td>Gagnoa Airport</td>\n",
       "      <td>CI</td>\n",
       "      <td>Côte d'Ivoire</td>\n",
       "      <td>AF</td>\n",
       "      <td>Africa</td>\n",
       "      <td>2022-10-26</td>\n",
       "      <td>GGN</td>\n",
       "      <td>Gayle Lievesley</td>\n",
       "      <td>Cancelled</td>\n",
       "    </tr>\n",
       "    <tr>\n",
       "      <th>98618</th>\n",
       "      <td>8JYEcz</td>\n",
       "      <td>Wilhelmine</td>\n",
       "      <td>Touret</td>\n",
       "      <td>Female</td>\n",
       "      <td>10</td>\n",
       "      <td>Poland</td>\n",
       "      <td>Yoshkar-Ola Airport</td>\n",
       "      <td>RU</td>\n",
       "      <td>Russian Federation</td>\n",
       "      <td>EU</td>\n",
       "      <td>Europe</td>\n",
       "      <td>2022-04-16</td>\n",
       "      <td>JOK</td>\n",
       "      <td>Wilhelmine Touret</td>\n",
       "      <td>Delayed</td>\n",
       "    </tr>\n",
       "  </tbody>\n",
       "</table>\n",
       "<p>98619 rows × 15 columns</p>\n",
       "</div>"
      ],
      "text/plain": [
       "      Passenger_ID  First_Name  Last_Name  Gender  Age Nationality  \\\n",
       "0           ABVWIg      Edithe     Leggis  Female   62       Japan   \n",
       "1           jkXXAX      Elwood       Catt    Male   62   Nicaragua   \n",
       "2           CdUz2g       Darby    Felgate    Male   67      Russia   \n",
       "3           BRS38V    Dominica       Pyle  Female   71       China   \n",
       "4           9kvTLo         Bay    Pencost    Male   21       China   \n",
       "...            ...         ...        ...     ...  ...         ...   \n",
       "98614       hnGQ62      Gareth    Mugford    Male   85       China   \n",
       "98615       2omEzh       Kasey   Benedict  Female   19      Russia   \n",
       "98616       VUPiVG      Darrin     Lucken    Male   65   Indonesia   \n",
       "98617       E47NtS       Gayle  Lievesley  Female   34       China   \n",
       "98618       8JYEcz  Wilhelmine     Touret  Female   10      Poland   \n",
       "\n",
       "                      Airport_Name Airport_Country_Code        Country_Name  \\\n",
       "0                 Coldfoot Airport                   US       United States   \n",
       "1                Kugluktuk Airport                   CA              Canada   \n",
       "2           Grenoble-Isère Airport                   FR              France   \n",
       "3        Ottawa / Gatineau Airport                   CA              Canada   \n",
       "4                  Gillespie Field                   US       United States   \n",
       "...                            ...                  ...                 ...   \n",
       "98614               Hasvik Airport                   NO              Norway   \n",
       "98615          Ampampamena Airport                   MG          Madagascar   \n",
       "98616  Albacete-Los Llanos Airport                   ES               Spain   \n",
       "98617               Gagnoa Airport                   CI       Côte d'Ivoire   \n",
       "98618          Yoshkar-Ola Airport                   RU  Russian Federation   \n",
       "\n",
       "      Airport_Continent     Continents Departure_Date Arrival_Airport  \\\n",
       "0                   NAM  North America     2022-06-28             CXF   \n",
       "1                   NAM  North America     2022-12-26             YCO   \n",
       "2                    EU         Europe     2022-01-18             GNB   \n",
       "3                   NAM  North America     2022-09-16             YND   \n",
       "4                   NAM  North America     2022-02-25             SEE   \n",
       "...                 ...            ...            ...             ...   \n",
       "98614                EU         Europe     2022-12-11             HAA   \n",
       "98615                AF         Africa     2022-10-30             IVA   \n",
       "98616                EU         Europe     2022-09-10             ABC   \n",
       "98617                AF         Africa     2022-10-26             GGN   \n",
       "98618                EU         Europe     2022-04-16             JOK   \n",
       "\n",
       "              Pilot_Name Flight_Status  \n",
       "0          Edithe Leggis       On Time  \n",
       "1            Elwood Catt       On Time  \n",
       "2          Darby Felgate       On Time  \n",
       "3          Dominica Pyle       Delayed  \n",
       "4            Bay Pencost       On Time  \n",
       "...                  ...           ...  \n",
       "98614     Gareth Mugford     Cancelled  \n",
       "98615     Kasey Benedict     Cancelled  \n",
       "98616      Darrin Lucken       On Time  \n",
       "98617    Gayle Lievesley     Cancelled  \n",
       "98618  Wilhelmine Touret       Delayed  \n",
       "\n",
       "[98619 rows x 15 columns]"
      ]
     },
     "execution_count": 15,
     "metadata": {},
     "output_type": "execute_result"
    }
   ],
   "source": [
    "df\n"
   ]
  },
  {
   "cell_type": "code",
   "execution_count": 16,
   "id": "a43c09bd",
   "metadata": {
    "execution": {
     "iopub.execute_input": "2024-05-01T03:56:45.296560Z",
     "iopub.status.busy": "2024-05-01T03:56:45.295922Z",
     "iopub.status.idle": "2024-05-01T03:56:45.521482Z",
     "shell.execute_reply": "2024-05-01T03:56:45.520658Z"
    },
    "papermill": {
     "duration": 0.241216,
     "end_time": "2024-05-01T03:56:45.523438",
     "exception": false,
     "start_time": "2024-05-01T03:56:45.282222",
     "status": "completed"
    },
    "tags": []
   },
   "outputs": [
    {
     "data": {
      "text/plain": [
       "<Axes: xlabel='Continents'>"
      ]
     },
     "execution_count": 16,
     "metadata": {},
     "output_type": "execute_result"
    },
    {
     "data": {
      "image/png": "[encoded data removed]",
      "text/plain": [
       "<Figure size 640x480 with 1 Axes>"
      ]
     },
     "metadata": {},
     "output_type": "display_data"
    }
   ],
   "source": [
    "df['Continents'].value_counts().plot(kind='bar')"
   ]
  },
  {
   "cell_type": "code",
   "execution_count": 17,
   "id": "65d37244",
   "metadata": {
    "execution": {
     "iopub.execute_input": "2024-05-01T03:56:45.545900Z",
     "iopub.status.busy": "2024-05-01T03:56:45.545258Z",
     "iopub.status.idle": "2024-05-01T03:56:45.784787Z",
     "shell.execute_reply": "2024-05-01T03:56:45.783581Z"
    },
    "papermill": {
     "duration": 0.253805,
     "end_time": "2024-05-01T03:56:45.787362",
     "exception": false,
     "start_time": "2024-05-01T03:56:45.533557",
     "status": "completed"
    },
    "tags": []
   },
   "outputs": [
    {
     "data": {
      "text/plain": [
       "<Axes: xlabel='Nationality'>"
      ]
     },
     "execution_count": 17,
     "metadata": {},
     "output_type": "execute_result"
    },
    {
     "data": {
      "image/png": "[encoded data removed]",
      "text/plain": [
       "<Figure size 640x480 with 1 Axes>"
      ]
     },
     "metadata": {},
     "output_type": "display_data"
    }
   ],
   "source": [
    "df['Nationality'].value_counts().head(10).plot(kind='bar')"
   ]
  },
  {
   "cell_type": "markdown",
   "id": "e05c4ace",
   "metadata": {
    "papermill": {
     "duration": 0.01015,
     "end_time": "2024-05-01T03:56:45.808285",
     "exception": false,
     "start_time": "2024-05-01T03:56:45.798135",
     "status": "completed"
    },
    "tags": []
   },
   "source": []
  },
  {
   "cell_type": "code",
   "execution_count": 18,
   "id": "b77ce65c",
   "metadata": {
    "execution": {
     "iopub.execute_input": "2024-05-01T03:56:45.831132Z",
     "iopub.status.busy": "2024-05-01T03:56:45.830687Z",
     "iopub.status.idle": "2024-05-01T03:56:46.452083Z",
     "shell.execute_reply": "2024-05-01T03:56:46.450462Z"
    },
    "papermill": {
     "duration": 0.636619,
     "end_time": "2024-05-01T03:56:46.455237",
     "exception": false,
     "start_time": "2024-05-01T03:56:45.818618",
     "status": "completed"
    },
    "tags": []
   },
   "outputs": [
    {
     "name": "stderr",
     "output_type": "stream",
     "text": [
      "/opt/conda/lib/python3.10/site-packages/seaborn/axisgrid.py:118: UserWarning: The figure layout has changed to tight\n",
      "  self._figure.tight_layout(*args, **kwargs)\n"
     ]
    },
    {
     "data": {
      "text/plain": [
       "<seaborn.axisgrid.FacetGrid at 0x7a5949e37eb0>"
      ]
     },
     "execution_count": 18,
     "metadata": {},
     "output_type": "execute_result"
    },
    {
     "data": {
      "image/png": "[encoded data removed]",
      "text/plain": [
       "<Figure size 500x500 with 1 Axes>"
      ]
     },
     "metadata": {},
     "output_type": "display_data"
    }
   ],
   "source": [
    "sns.displot(df['Age'],kind='kde')"
   ]
  },
  {
   "cell_type": "code",
   "execution_count": 19,
   "id": "bd71de8b",
   "metadata": {
    "execution": {
     "iopub.execute_input": "2024-05-01T03:56:46.482094Z",
     "iopub.status.busy": "2024-05-01T03:56:46.481639Z",
     "iopub.status.idle": "2024-05-01T03:56:46.512756Z",
     "shell.execute_reply": "2024-05-01T03:56:46.511385Z"
    },
    "papermill": {
     "duration": 0.04784,
     "end_time": "2024-05-01T03:56:46.514869",
     "exception": false,
     "start_time": "2024-05-01T03:56:46.467029",
     "status": "completed"
    },
    "tags": []
   },
   "outputs": [
    {
     "data": {
      "text/html": [
       "<div>\n",
       "<style scoped>\n",
       "    .dataframe tbody tr th:only-of-type {\n",
       "        vertical-align: middle;\n",
       "    }\n",
       "\n",
       "    .dataframe tbody tr th {\n",
       "        vertical-align: top;\n",
       "    }\n",
       "\n",
       "    .dataframe thead th {\n",
       "        text-align: right;\n",
       "    }\n",
       "</style>\n",
       "<table border=\"1\" class=\"dataframe\">\n",
       "  <thead>\n",
       "    <tr style=\"text-align: right;\">\n",
       "      <th></th>\n",
       "      <th>Passenger_ID</th>\n",
       "      <th>First_Name</th>\n",
       "      <th>Last_Name</th>\n",
       "      <th>Gender</th>\n",
       "      <th>Age</th>\n",
       "      <th>Nationality</th>\n",
       "      <th>Airport_Name</th>\n",
       "      <th>Airport_Country_Code</th>\n",
       "      <th>Country_Name</th>\n",
       "      <th>Airport_Continent</th>\n",
       "      <th>Continents</th>\n",
       "      <th>Departure_Date</th>\n",
       "      <th>Arrival_Airport</th>\n",
       "      <th>Pilot_Name</th>\n",
       "      <th>Flight_Status</th>\n",
       "      <th>age_group</th>\n",
       "    </tr>\n",
       "  </thead>\n",
       "  <tbody>\n",
       "    <tr>\n",
       "      <th>0</th>\n",
       "      <td>ABVWIg</td>\n",
       "      <td>Edithe</td>\n",
       "      <td>Leggis</td>\n",
       "      <td>Female</td>\n",
       "      <td>62</td>\n",
       "      <td>Japan</td>\n",
       "      <td>Coldfoot Airport</td>\n",
       "      <td>US</td>\n",
       "      <td>United States</td>\n",
       "      <td>NAM</td>\n",
       "      <td>North America</td>\n",
       "      <td>2022-06-28</td>\n",
       "      <td>CXF</td>\n",
       "      <td>Edithe Leggis</td>\n",
       "      <td>On Time</td>\n",
       "      <td>old</td>\n",
       "    </tr>\n",
       "    <tr>\n",
       "      <th>1</th>\n",
       "      <td>jkXXAX</td>\n",
       "      <td>Elwood</td>\n",
       "      <td>Catt</td>\n",
       "      <td>Male</td>\n",
       "      <td>62</td>\n",
       "      <td>Nicaragua</td>\n",
       "      <td>Kugluktuk Airport</td>\n",
       "      <td>CA</td>\n",
       "      <td>Canada</td>\n",
       "      <td>NAM</td>\n",
       "      <td>North America</td>\n",
       "      <td>2022-12-26</td>\n",
       "      <td>YCO</td>\n",
       "      <td>Elwood Catt</td>\n",
       "      <td>On Time</td>\n",
       "      <td>old</td>\n",
       "    </tr>\n",
       "    <tr>\n",
       "      <th>2</th>\n",
       "      <td>CdUz2g</td>\n",
       "      <td>Darby</td>\n",
       "      <td>Felgate</td>\n",
       "      <td>Male</td>\n",
       "      <td>67</td>\n",
       "      <td>Russia</td>\n",
       "      <td>Grenoble-Isère Airport</td>\n",
       "      <td>FR</td>\n",
       "      <td>France</td>\n",
       "      <td>EU</td>\n",
       "      <td>Europe</td>\n",
       "      <td>2022-01-18</td>\n",
       "      <td>GNB</td>\n",
       "      <td>Darby Felgate</td>\n",
       "      <td>On Time</td>\n",
       "      <td>old</td>\n",
       "    </tr>\n",
       "    <tr>\n",
       "      <th>3</th>\n",
       "      <td>BRS38V</td>\n",
       "      <td>Dominica</td>\n",
       "      <td>Pyle</td>\n",
       "      <td>Female</td>\n",
       "      <td>71</td>\n",
       "      <td>China</td>\n",
       "      <td>Ottawa / Gatineau Airport</td>\n",
       "      <td>CA</td>\n",
       "      <td>Canada</td>\n",
       "      <td>NAM</td>\n",
       "      <td>North America</td>\n",
       "      <td>2022-09-16</td>\n",
       "      <td>YND</td>\n",
       "      <td>Dominica Pyle</td>\n",
       "      <td>Delayed</td>\n",
       "      <td>old</td>\n",
       "    </tr>\n",
       "    <tr>\n",
       "      <th>4</th>\n",
       "      <td>9kvTLo</td>\n",
       "      <td>Bay</td>\n",
       "      <td>Pencost</td>\n",
       "      <td>Male</td>\n",
       "      <td>21</td>\n",
       "      <td>China</td>\n",
       "      <td>Gillespie Field</td>\n",
       "      <td>US</td>\n",
       "      <td>United States</td>\n",
       "      <td>NAM</td>\n",
       "      <td>North America</td>\n",
       "      <td>2022-02-25</td>\n",
       "      <td>SEE</td>\n",
       "      <td>Bay Pencost</td>\n",
       "      <td>On Time</td>\n",
       "      <td>young</td>\n",
       "    </tr>\n",
       "    <tr>\n",
       "      <th>...</th>\n",
       "      <td>...</td>\n",
       "      <td>...</td>\n",
       "      <td>...</td>\n",
       "      <td>...</td>\n",
       "      <td>...</td>\n",
       "      <td>...</td>\n",
       "      <td>...</td>\n",
       "      <td>...</td>\n",
       "      <td>...</td>\n",
       "      <td>...</td>\n",
       "      <td>...</td>\n",
       "      <td>...</td>\n",
       "      <td>...</td>\n",
       "      <td>...</td>\n",
       "      <td>...</td>\n",
       "      <td>...</td>\n",
       "    </tr>\n",
       "    <tr>\n",
       "      <th>98614</th>\n",
       "      <td>hnGQ62</td>\n",
       "      <td>Gareth</td>\n",
       "      <td>Mugford</td>\n",
       "      <td>Male</td>\n",
       "      <td>85</td>\n",
       "      <td>China</td>\n",
       "      <td>Hasvik Airport</td>\n",
       "      <td>NO</td>\n",
       "      <td>Norway</td>\n",
       "      <td>EU</td>\n",
       "      <td>Europe</td>\n",
       "      <td>2022-12-11</td>\n",
       "      <td>HAA</td>\n",
       "      <td>Gareth Mugford</td>\n",
       "      <td>Cancelled</td>\n",
       "      <td>old</td>\n",
       "    </tr>\n",
       "    <tr>\n",
       "      <th>98615</th>\n",
       "      <td>2omEzh</td>\n",
       "      <td>Kasey</td>\n",
       "      <td>Benedict</td>\n",
       "      <td>Female</td>\n",
       "      <td>19</td>\n",
       "      <td>Russia</td>\n",
       "      <td>Ampampamena Airport</td>\n",
       "      <td>MG</td>\n",
       "      <td>Madagascar</td>\n",
       "      <td>AF</td>\n",
       "      <td>Africa</td>\n",
       "      <td>2022-10-30</td>\n",
       "      <td>IVA</td>\n",
       "      <td>Kasey Benedict</td>\n",
       "      <td>Cancelled</td>\n",
       "      <td>young</td>\n",
       "    </tr>\n",
       "    <tr>\n",
       "      <th>98616</th>\n",
       "      <td>VUPiVG</td>\n",
       "      <td>Darrin</td>\n",
       "      <td>Lucken</td>\n",
       "      <td>Male</td>\n",
       "      <td>65</td>\n",
       "      <td>Indonesia</td>\n",
       "      <td>Albacete-Los Llanos Airport</td>\n",
       "      <td>ES</td>\n",
       "      <td>Spain</td>\n",
       "      <td>EU</td>\n",
       "      <td>Europe</td>\n",
       "      <td>2022-09-10</td>\n",
       "      <td>ABC</td>\n",
       "      <td>Darrin Lucken</td>\n",
       "      <td>On Time</td>\n",
       "      <td>old</td>\n",
       "    </tr>\n",
       "    <tr>\n",
       "      <th>98617</th>\n",
       "      <td>E47NtS</td>\n",
       "      <td>Gayle</td>\n",
       "      <td>Lievesley</td>\n",
       "      <td>Female</td>\n",
       "      <td>34</td>\n",
       "      <td>China</td>\n",
       "      <td>Gagnoa Airport</td>\n",
       "      <td>CI</td>\n",
       "      <td>Côte d'Ivoire</td>\n",
       "      <td>AF</td>\n",
       "      <td>Africa</td>\n",
       "      <td>2022-10-26</td>\n",
       "      <td>GGN</td>\n",
       "      <td>Gayle Lievesley</td>\n",
       "      <td>Cancelled</td>\n",
       "      <td>middle_aged</td>\n",
       "    </tr>\n",
       "    <tr>\n",
       "      <th>98618</th>\n",
       "      <td>8JYEcz</td>\n",
       "      <td>Wilhelmine</td>\n",
       "      <td>Touret</td>\n",
       "      <td>Female</td>\n",
       "      <td>10</td>\n",
       "      <td>Poland</td>\n",
       "      <td>Yoshkar-Ola Airport</td>\n",
       "      <td>RU</td>\n",
       "      <td>Russian Federation</td>\n",
       "      <td>EU</td>\n",
       "      <td>Europe</td>\n",
       "      <td>2022-04-16</td>\n",
       "      <td>JOK</td>\n",
       "      <td>Wilhelmine Touret</td>\n",
       "      <td>Delayed</td>\n",
       "      <td>young</td>\n",
       "    </tr>\n",
       "  </tbody>\n",
       "</table>\n",
       "<p>98619 rows × 16 columns</p>\n",
       "</div>"
      ],
      "text/plain": [
       "      Passenger_ID  First_Name  Last_Name  Gender  Age Nationality  \\\n",
       "0           ABVWIg      Edithe     Leggis  Female   62       Japan   \n",
       "1           jkXXAX      Elwood       Catt    Male   62   Nicaragua   \n",
       "2           CdUz2g       Darby    Felgate    Male   67      Russia   \n",
       "3           BRS38V    Dominica       Pyle  Female   71       China   \n",
       "4           9kvTLo         Bay    Pencost    Male   21       China   \n",
       "...            ...         ...        ...     ...  ...         ...   \n",
       "98614       hnGQ62      Gareth    Mugford    Male   85       China   \n",
       "98615       2omEzh       Kasey   Benedict  Female   19      Russia   \n",
       "98616       VUPiVG      Darrin     Lucken    Male   65   Indonesia   \n",
       "98617       E47NtS       Gayle  Lievesley  Female   34       China   \n",
       "98618       8JYEcz  Wilhelmine     Touret  Female   10      Poland   \n",
       "\n",
       "                      Airport_Name Airport_Country_Code        Country_Name  \\\n",
       "0                 Coldfoot Airport                   US       United States   \n",
       "1                Kugluktuk Airport                   CA              Canada   \n",
       "2           Grenoble-Isère Airport                   FR              France   \n",
       "3        Ottawa / Gatineau Airport                   CA              Canada   \n",
       "4                  Gillespie Field                   US       United States   \n",
       "...                            ...                  ...                 ...   \n",
       "98614               Hasvik Airport                   NO              Norway   \n",
       "98615          Ampampamena Airport                   MG          Madagascar   \n",
       "98616  Albacete-Los Llanos Airport                   ES               Spain   \n",
       "98617               Gagnoa Airport                   CI       Côte d'Ivoire   \n",
       "98618          Yoshkar-Ola Airport                   RU  Russian Federation   \n",
       "\n",
       "      Airport_Continent     Continents Departure_Date Arrival_Airport  \\\n",
       "0                   NAM  North America     2022-06-28             CXF   \n",
       "1                   NAM  North America     2022-12-26             YCO   \n",
       "2                    EU         Europe     2022-01-18             GNB   \n",
       "3                   NAM  North America     2022-09-16             YND   \n",
       "4                   NAM  North America     2022-02-25             SEE   \n",
       "...                 ...            ...            ...             ...   \n",
       "98614                EU         Europe     2022-12-11             HAA   \n",
       "98615                AF         Africa     2022-10-30             IVA   \n",
       "98616                EU         Europe     2022-09-10             ABC   \n",
       "98617                AF         Africa     2022-10-26             GGN   \n",
       "98618                EU         Europe     2022-04-16             JOK   \n",
       "\n",
       "              Pilot_Name Flight_Status    age_group  \n",
       "0          Edithe Leggis       On Time          old  \n",
       "1            Elwood Catt       On Time          old  \n",
       "2          Darby Felgate       On Time          old  \n",
       "3          Dominica Pyle       Delayed          old  \n",
       "4            Bay Pencost       On Time        young  \n",
       "...                  ...           ...          ...  \n",
       "98614     Gareth Mugford     Cancelled          old  \n",
       "98615     Kasey Benedict     Cancelled        young  \n",
       "98616      Darrin Lucken       On Time          old  \n",
       "98617    Gayle Lievesley     Cancelled  middle_aged  \n",
       "98618  Wilhelmine Touret       Delayed        young  \n",
       "\n",
       "[98619 rows x 16 columns]"
      ]
     },
     "execution_count": 19,
     "metadata": {},
     "output_type": "execute_result"
    }
   ],
   "source": [
    "\n",
    "    df[\"age_group\"] = pd.cut(x=df['Age'], bins=[0,30,60,100], labels=[\"young\",\"middle_aged\",\"old\"])\n",
    " \n",
    "\n",
    "# Call function\n",
    "df"
   ]
  },
  {
   "cell_type": "code",
   "execution_count": null,
   "id": "48202de5",
   "metadata": {
    "papermill": {
     "duration": 0.012151,
     "end_time": "2024-05-01T03:56:46.538301",
     "exception": false,
     "start_time": "2024-05-01T03:56:46.526150",
     "status": "completed"
    },
    "tags": []
   },
   "outputs": [],
   "source": []
  },
  {
   "cell_type": "markdown",
   "id": "30bf0a83",
   "metadata": {
    "papermill": {
     "duration": 0.010493,
     "end_time": "2024-05-01T03:56:46.559978",
     "exception": false,
     "start_time": "2024-05-01T03:56:46.549485",
     "status": "completed"
    },
    "tags": []
   },
   "source": []
  },
  {
   "cell_type": "code",
   "execution_count": 20,
   "id": "eeebfa9f",
   "metadata": {
    "execution": {
     "iopub.execute_input": "2024-05-01T03:56:46.584137Z",
     "iopub.status.busy": "2024-05-01T03:56:46.583699Z",
     "iopub.status.idle": "2024-05-01T03:56:46.858310Z",
     "shell.execute_reply": "2024-05-01T03:56:46.855997Z"
    },
    "papermill": {
     "duration": 0.2905,
     "end_time": "2024-05-01T03:56:46.861693",
     "exception": false,
     "start_time": "2024-05-01T03:56:46.571193",
     "status": "completed"
    },
    "tags": []
   },
   "outputs": [
    {
     "data": {
      "text/plain": [
       "<Axes: xlabel='age_group', ylabel='count'>"
      ]
     },
     "execution_count": 20,
     "metadata": {},
     "output_type": "execute_result"
    },
    {
     "data": {
      "image/png": "[encoded data removed]",
      "text/plain": [
       "<Figure size 640x480 with 1 Axes>"
      ]
     },
     "metadata": {},
     "output_type": "display_data"
    }
   ],
   "source": [
    "sns.countplot(x='age_group',data=df,hue='Gender')"
   ]
  },
  {
   "cell_type": "code",
   "execution_count": 21,
   "id": "13f08f03",
   "metadata": {
    "execution": {
     "iopub.execute_input": "2024-05-01T03:56:46.888298Z",
     "iopub.status.busy": "2024-05-01T03:56:46.887800Z",
     "iopub.status.idle": "2024-05-01T03:56:47.205079Z",
     "shell.execute_reply": "2024-05-01T03:56:47.203168Z"
    },
    "papermill": {
     "duration": 0.334733,
     "end_time": "2024-05-01T03:56:47.208472",
     "exception": false,
     "start_time": "2024-05-01T03:56:46.873739",
     "status": "completed"
    },
    "tags": []
   },
   "outputs": [
    {
     "data": {
      "text/plain": [
       "<Axes: xlabel='Flight_Status', ylabel='count'>"
      ]
     },
     "execution_count": 21,
     "metadata": {},
     "output_type": "execute_result"
    },
    {
     "data": {
      "image/png": "[encoded data removed]",
      "text/plain": [
       "<Figure size 640x480 with 1 Axes>"
      ]
     },
     "metadata": {},
     "output_type": "display_data"
    }
   ],
   "source": [
    "sns.countplot(x='Flight_Status',data=df,hue='Gender')"
   ]
  },
  {
   "cell_type": "code",
   "execution_count": 22,
   "id": "55430d4f",
   "metadata": {
    "execution": {
     "iopub.execute_input": "2024-05-01T03:56:47.235485Z",
     "iopub.status.busy": "2024-05-01T03:56:47.235072Z",
     "iopub.status.idle": "2024-05-01T03:56:47.274776Z",
     "shell.execute_reply": "2024-05-01T03:56:47.273741Z"
    },
    "papermill": {
     "duration": 0.056679,
     "end_time": "2024-05-01T03:56:47.277600",
     "exception": false,
     "start_time": "2024-05-01T03:56:47.220921",
     "status": "completed"
    },
    "tags": []
   },
   "outputs": [
    {
     "data": {
      "text/plain": [
       "Gender  Flight_Status\n",
       "Female  Cancelled        16452\n",
       "        Delayed          16291\n",
       "        On Time          16278\n",
       "Male    On Time          16568\n",
       "        Delayed          16540\n",
       "        Cancelled        16490\n",
       "Name: count, dtype: int64"
      ]
     },
     "execution_count": 22,
     "metadata": {},
     "output_type": "execute_result"
    }
   ],
   "source": [
    "df[['Gender','Flight_Status']].groupby('Gender').value_counts()"
   ]
  },
  {
   "cell_type": "code",
   "execution_count": 23,
   "id": "4b07825f",
   "metadata": {
    "execution": {
     "iopub.execute_input": "2024-05-01T03:56:47.304757Z",
     "iopub.status.busy": "2024-05-01T03:56:47.304049Z",
     "iopub.status.idle": "2024-05-01T03:56:47.312255Z",
     "shell.execute_reply": "2024-05-01T03:56:47.310229Z"
    },
    "papermill": {
     "duration": 0.024801,
     "end_time": "2024-05-01T03:56:47.315023",
     "exception": false,
     "start_time": "2024-05-01T03:56:47.290222",
     "status": "completed"
    },
    "tags": []
   },
   "outputs": [
    {
     "data": {
      "text/plain": [
       "Index(['Passenger_ID', 'First_Name', 'Last_Name', 'Gender', 'Age',\n",
       "       'Nationality', 'Airport_Name', 'Airport_Country_Code', 'Country_Name',\n",
       "       'Airport_Continent', 'Continents', 'Departure_Date', 'Arrival_Airport',\n",
       "       'Pilot_Name', 'Flight_Status', 'age_group'],\n",
       "      dtype='object')"
      ]
     },
     "execution_count": 23,
     "metadata": {},
     "output_type": "execute_result"
    }
   ],
   "source": [
    "df.columns"
   ]
  },
  {
   "cell_type": "markdown",
   "id": "595509c9",
   "metadata": {
    "papermill": {
     "duration": 0.012843,
     "end_time": "2024-05-01T03:56:47.340604",
     "exception": false,
     "start_time": "2024-05-01T03:56:47.327761",
     "status": "completed"
    },
    "tags": []
   },
   "source": [
    "col=[]"
   ]
  },
  {
   "cell_type": "code",
   "execution_count": 24,
   "id": "f057361f",
   "metadata": {
    "execution": {
     "iopub.execute_input": "2024-05-01T03:56:47.439425Z",
     "iopub.status.busy": "2024-05-01T03:56:47.439013Z",
     "iopub.status.idle": "2024-05-01T03:56:48.619127Z",
     "shell.execute_reply": "2024-05-01T03:56:48.617598Z"
    },
    "papermill": {
     "duration": 1.197833,
     "end_time": "2024-05-01T03:56:48.621532",
     "exception": false,
     "start_time": "2024-05-01T03:56:47.423699",
     "status": "completed"
    },
    "tags": []
   },
   "outputs": [
    {
     "data": {
      "image/png": "[encoded data removed]",
      "text/plain": [
       "<Figure size 640x480 with 1 Axes>"
      ]
     },
     "metadata": {},
     "output_type": "display_data"
    },
    {
     "data": {
      "image/png": "[encoded data removed]",
      "text/plain": [
       "<Figure size 640x480 with 1 Axes>"
      ]
     },
     "metadata": {},
     "output_type": "display_data"
    },
    {
     "data": {
      "image/png": "[encoded data removed]",
      "text/plain": [
       "<Figure size 640x480 with 1 Axes>"
      ]
     },
     "metadata": {},
     "output_type": "display_data"
    },
    {
     "data": {
      "image/png": "[encoded data removed]",
      "text/plain": [
       "<Figure size 640x480 with 1 Axes>"
      ]
     },
     "metadata": {},
     "output_type": "display_data"
    },
    {
     "data": {
      "image/png": "[encoded data removed]",
      "text/plain": [
       "<Figure size 640x480 with 1 Axes>"
      ]
     },
     "metadata": {},
     "output_type": "display_data"
    }
   ],
   "source": [
    "col=['Nationality','Airport_Name','Continents','Country_Name','Pilot_Name']\n",
    "\n",
    "for i in col:\n",
    "    plt.figure()\n",
    "    df[i].value_counts().head(10).plot(kind='bar')\n",
    "    "
   ]
  },
  {
   "cell_type": "code",
   "execution_count": 25,
   "id": "99a4972c",
   "metadata": {
    "execution": {
     "iopub.execute_input": "2024-05-01T03:56:48.653024Z",
     "iopub.status.busy": "2024-05-01T03:56:48.652583Z",
     "iopub.status.idle": "2024-05-01T03:56:48.678886Z",
     "shell.execute_reply": "2024-05-01T03:56:48.677427Z"
    },
    "papermill": {
     "duration": 0.045155,
     "end_time": "2024-05-01T03:56:48.681396",
     "exception": false,
     "start_time": "2024-05-01T03:56:48.636241",
     "status": "completed"
    },
    "tags": []
   },
   "outputs": [
    {
     "data": {
      "text/html": [
       "<div>\n",
       "<style scoped>\n",
       "    .dataframe tbody tr th:only-of-type {\n",
       "        vertical-align: middle;\n",
       "    }\n",
       "\n",
       "    .dataframe tbody tr th {\n",
       "        vertical-align: top;\n",
       "    }\n",
       "\n",
       "    .dataframe thead th {\n",
       "        text-align: right;\n",
       "    }\n",
       "</style>\n",
       "<table border=\"1\" class=\"dataframe\">\n",
       "  <thead>\n",
       "    <tr style=\"text-align: right;\">\n",
       "      <th></th>\n",
       "      <th>Passenger_ID</th>\n",
       "      <th>First_Name</th>\n",
       "      <th>Last_Name</th>\n",
       "      <th>Gender</th>\n",
       "      <th>Age</th>\n",
       "      <th>Nationality</th>\n",
       "      <th>Airport_Name</th>\n",
       "      <th>Airport_Country_Code</th>\n",
       "      <th>Country_Name</th>\n",
       "      <th>Airport_Continent</th>\n",
       "      <th>Continents</th>\n",
       "      <th>Departure_Date</th>\n",
       "      <th>Arrival_Airport</th>\n",
       "      <th>Pilot_Name</th>\n",
       "      <th>Flight_Status</th>\n",
       "      <th>age_group</th>\n",
       "    </tr>\n",
       "  </thead>\n",
       "  <tbody>\n",
       "    <tr>\n",
       "      <th>0</th>\n",
       "      <td>ABVWIg</td>\n",
       "      <td>Edithe</td>\n",
       "      <td>Leggis</td>\n",
       "      <td>Female</td>\n",
       "      <td>62</td>\n",
       "      <td>Japan</td>\n",
       "      <td>Coldfoot Airport</td>\n",
       "      <td>US</td>\n",
       "      <td>United States</td>\n",
       "      <td>NAM</td>\n",
       "      <td>North America</td>\n",
       "      <td>2022-06-28</td>\n",
       "      <td>CXF</td>\n",
       "      <td>Edithe Leggis</td>\n",
       "      <td>On Time</td>\n",
       "      <td>old</td>\n",
       "    </tr>\n",
       "    <tr>\n",
       "      <th>1</th>\n",
       "      <td>jkXXAX</td>\n",
       "      <td>Elwood</td>\n",
       "      <td>Catt</td>\n",
       "      <td>Male</td>\n",
       "      <td>62</td>\n",
       "      <td>Nicaragua</td>\n",
       "      <td>Kugluktuk Airport</td>\n",
       "      <td>CA</td>\n",
       "      <td>Canada</td>\n",
       "      <td>NAM</td>\n",
       "      <td>North America</td>\n",
       "      <td>2022-12-26</td>\n",
       "      <td>YCO</td>\n",
       "      <td>Elwood Catt</td>\n",
       "      <td>On Time</td>\n",
       "      <td>old</td>\n",
       "    </tr>\n",
       "    <tr>\n",
       "      <th>2</th>\n",
       "      <td>CdUz2g</td>\n",
       "      <td>Darby</td>\n",
       "      <td>Felgate</td>\n",
       "      <td>Male</td>\n",
       "      <td>67</td>\n",
       "      <td>Russia</td>\n",
       "      <td>Grenoble-Isère Airport</td>\n",
       "      <td>FR</td>\n",
       "      <td>France</td>\n",
       "      <td>EU</td>\n",
       "      <td>Europe</td>\n",
       "      <td>2022-01-18</td>\n",
       "      <td>GNB</td>\n",
       "      <td>Darby Felgate</td>\n",
       "      <td>On Time</td>\n",
       "      <td>old</td>\n",
       "    </tr>\n",
       "    <tr>\n",
       "      <th>3</th>\n",
       "      <td>BRS38V</td>\n",
       "      <td>Dominica</td>\n",
       "      <td>Pyle</td>\n",
       "      <td>Female</td>\n",
       "      <td>71</td>\n",
       "      <td>China</td>\n",
       "      <td>Ottawa / Gatineau Airport</td>\n",
       "      <td>CA</td>\n",
       "      <td>Canada</td>\n",
       "      <td>NAM</td>\n",
       "      <td>North America</td>\n",
       "      <td>2022-09-16</td>\n",
       "      <td>YND</td>\n",
       "      <td>Dominica Pyle</td>\n",
       "      <td>Delayed</td>\n",
       "      <td>old</td>\n",
       "    </tr>\n",
       "    <tr>\n",
       "      <th>4</th>\n",
       "      <td>9kvTLo</td>\n",
       "      <td>Bay</td>\n",
       "      <td>Pencost</td>\n",
       "      <td>Male</td>\n",
       "      <td>21</td>\n",
       "      <td>China</td>\n",
       "      <td>Gillespie Field</td>\n",
       "      <td>US</td>\n",
       "      <td>United States</td>\n",
       "      <td>NAM</td>\n",
       "      <td>North America</td>\n",
       "      <td>2022-02-25</td>\n",
       "      <td>SEE</td>\n",
       "      <td>Bay Pencost</td>\n",
       "      <td>On Time</td>\n",
       "      <td>young</td>\n",
       "    </tr>\n",
       "    <tr>\n",
       "      <th>...</th>\n",
       "      <td>...</td>\n",
       "      <td>...</td>\n",
       "      <td>...</td>\n",
       "      <td>...</td>\n",
       "      <td>...</td>\n",
       "      <td>...</td>\n",
       "      <td>...</td>\n",
       "      <td>...</td>\n",
       "      <td>...</td>\n",
       "      <td>...</td>\n",
       "      <td>...</td>\n",
       "      <td>...</td>\n",
       "      <td>...</td>\n",
       "      <td>...</td>\n",
       "      <td>...</td>\n",
       "      <td>...</td>\n",
       "    </tr>\n",
       "    <tr>\n",
       "      <th>98614</th>\n",
       "      <td>hnGQ62</td>\n",
       "      <td>Gareth</td>\n",
       "      <td>Mugford</td>\n",
       "      <td>Male</td>\n",
       "      <td>85</td>\n",
       "      <td>China</td>\n",
       "      <td>Hasvik Airport</td>\n",
       "      <td>NO</td>\n",
       "      <td>Norway</td>\n",
       "      <td>EU</td>\n",
       "      <td>Europe</td>\n",
       "      <td>2022-12-11</td>\n",
       "      <td>HAA</td>\n",
       "      <td>Gareth Mugford</td>\n",
       "      <td>Cancelled</td>\n",
       "      <td>old</td>\n",
       "    </tr>\n",
       "    <tr>\n",
       "      <th>98615</th>\n",
       "      <td>2omEzh</td>\n",
       "      <td>Kasey</td>\n",
       "      <td>Benedict</td>\n",
       "      <td>Female</td>\n",
       "      <td>19</td>\n",
       "      <td>Russia</td>\n",
       "      <td>Ampampamena Airport</td>\n",
       "      <td>MG</td>\n",
       "      <td>Madagascar</td>\n",
       "      <td>AF</td>\n",
       "      <td>Africa</td>\n",
       "      <td>2022-10-30</td>\n",
       "      <td>IVA</td>\n",
       "      <td>Kasey Benedict</td>\n",
       "      <td>Cancelled</td>\n",
       "      <td>young</td>\n",
       "    </tr>\n",
       "    <tr>\n",
       "      <th>98616</th>\n",
       "      <td>VUPiVG</td>\n",
       "      <td>Darrin</td>\n",
       "      <td>Lucken</td>\n",
       "      <td>Male</td>\n",
       "      <td>65</td>\n",
       "      <td>Indonesia</td>\n",
       "      <td>Albacete-Los Llanos Airport</td>\n",
       "      <td>ES</td>\n",
       "      <td>Spain</td>\n",
       "      <td>EU</td>\n",
       "      <td>Europe</td>\n",
       "      <td>2022-09-10</td>\n",
       "      <td>ABC</td>\n",
       "      <td>Darrin Lucken</td>\n",
       "      <td>On Time</td>\n",
       "      <td>old</td>\n",
       "    </tr>\n",
       "    <tr>\n",
       "      <th>98617</th>\n",
       "      <td>E47NtS</td>\n",
       "      <td>Gayle</td>\n",
       "      <td>Lievesley</td>\n",
       "      <td>Female</td>\n",
       "      <td>34</td>\n",
       "      <td>China</td>\n",
       "      <td>Gagnoa Airport</td>\n",
       "      <td>CI</td>\n",
       "      <td>Côte d'Ivoire</td>\n",
       "      <td>AF</td>\n",
       "      <td>Africa</td>\n",
       "      <td>2022-10-26</td>\n",
       "      <td>GGN</td>\n",
       "      <td>Gayle Lievesley</td>\n",
       "      <td>Cancelled</td>\n",
       "      <td>middle_aged</td>\n",
       "    </tr>\n",
       "    <tr>\n",
       "      <th>98618</th>\n",
       "      <td>8JYEcz</td>\n",
       "      <td>Wilhelmine</td>\n",
       "      <td>Touret</td>\n",
       "      <td>Female</td>\n",
       "      <td>10</td>\n",
       "      <td>Poland</td>\n",
       "      <td>Yoshkar-Ola Airport</td>\n",
       "      <td>RU</td>\n",
       "      <td>Russian Federation</td>\n",
       "      <td>EU</td>\n",
       "      <td>Europe</td>\n",
       "      <td>2022-04-16</td>\n",
       "      <td>JOK</td>\n",
       "      <td>Wilhelmine Touret</td>\n",
       "      <td>Delayed</td>\n",
       "      <td>young</td>\n",
       "    </tr>\n",
       "  </tbody>\n",
       "</table>\n",
       "<p>98619 rows × 16 columns</p>\n",
       "</div>"
      ],
      "text/plain": [
       "      Passenger_ID  First_Name  Last_Name  Gender  Age Nationality  \\\n",
       "0           ABVWIg      Edithe     Leggis  Female   62       Japan   \n",
       "1           jkXXAX      Elwood       Catt    Male   62   Nicaragua   \n",
       "2           CdUz2g       Darby    Felgate    Male   67      Russia   \n",
       "3           BRS38V    Dominica       Pyle  Female   71       China   \n",
       "4           9kvTLo         Bay    Pencost    Male   21       China   \n",
       "...            ...         ...        ...     ...  ...         ...   \n",
       "98614       hnGQ62      Gareth    Mugford    Male   85       China   \n",
       "98615       2omEzh       Kasey   Benedict  Female   19      Russia   \n",
       "98616       VUPiVG      Darrin     Lucken    Male   65   Indonesia   \n",
       "98617       E47NtS       Gayle  Lievesley  Female   34       China   \n",
       "98618       8JYEcz  Wilhelmine     Touret  Female   10      Poland   \n",
       "\n",
       "                      Airport_Name Airport_Country_Code        Country_Name  \\\n",
       "0                 Coldfoot Airport                   US       United States   \n",
       "1                Kugluktuk Airport                   CA              Canada   \n",
       "2           Grenoble-Isère Airport                   FR              France   \n",
       "3        Ottawa / Gatineau Airport                   CA              Canada   \n",
       "4                  Gillespie Field                   US       United States   \n",
       "...                            ...                  ...                 ...   \n",
       "98614               Hasvik Airport                   NO              Norway   \n",
       "98615          Ampampamena Airport                   MG          Madagascar   \n",
       "98616  Albacete-Los Llanos Airport                   ES               Spain   \n",
       "98617               Gagnoa Airport                   CI       Côte d'Ivoire   \n",
       "98618          Yoshkar-Ola Airport                   RU  Russian Federation   \n",
       "\n",
       "      Airport_Continent     Continents Departure_Date Arrival_Airport  \\\n",
       "0                   NAM  North America     2022-06-28             CXF   \n",
       "1                   NAM  North America     2022-12-26             YCO   \n",
       "2                    EU         Europe     2022-01-18             GNB   \n",
       "3                   NAM  North America     2022-09-16             YND   \n",
       "4                   NAM  North America     2022-02-25             SEE   \n",
       "...                 ...            ...            ...             ...   \n",
       "98614                EU         Europe     2022-12-11             HAA   \n",
       "98615                AF         Africa     2022-10-30             IVA   \n",
       "98616                EU         Europe     2022-09-10             ABC   \n",
       "98617                AF         Africa     2022-10-26             GGN   \n",
       "98618                EU         Europe     2022-04-16             JOK   \n",
       "\n",
       "              Pilot_Name Flight_Status    age_group  \n",
       "0          Edithe Leggis       On Time          old  \n",
       "1            Elwood Catt       On Time          old  \n",
       "2          Darby Felgate       On Time          old  \n",
       "3          Dominica Pyle       Delayed          old  \n",
       "4            Bay Pencost       On Time        young  \n",
       "...                  ...           ...          ...  \n",
       "98614     Gareth Mugford     Cancelled          old  \n",
       "98615     Kasey Benedict     Cancelled        young  \n",
       "98616      Darrin Lucken       On Time          old  \n",
       "98617    Gayle Lievesley     Cancelled  middle_aged  \n",
       "98618  Wilhelmine Touret       Delayed        young  \n",
       "\n",
       "[98619 rows x 16 columns]"
      ]
     },
     "execution_count": 25,
     "metadata": {},
     "output_type": "execute_result"
    }
   ],
   "source": [
    "df\n"
   ]
  },
  {
   "cell_type": "code",
   "execution_count": 26,
   "id": "e01542b0",
   "metadata": {
    "execution": {
     "iopub.execute_input": "2024-05-01T03:56:48.713423Z",
     "iopub.status.busy": "2024-05-01T03:56:48.713014Z",
     "iopub.status.idle": "2024-05-01T03:56:48.739865Z",
     "shell.execute_reply": "2024-05-01T03:56:48.738843Z"
    },
    "papermill": {
     "duration": 0.047028,
     "end_time": "2024-05-01T03:56:48.743200",
     "exception": false,
     "start_time": "2024-05-01T03:56:48.696172",
     "status": "completed"
    },
    "tags": []
   },
   "outputs": [
    {
     "data": {
      "text/plain": [
       "array([2022], dtype=int32)"
      ]
     },
     "execution_count": 26,
     "metadata": {},
     "output_type": "execute_result"
    }
   ],
   "source": [
    "df['year']=df['Departure_Date'].dt.year\n",
    "df['month']=df['Departure_Date'].dt.month\n",
    "df['day']=df['Departure_Date'].dt.day\n",
    "df['year'].unique()"
   ]
  },
  {
   "cell_type": "code",
   "execution_count": 27,
   "id": "03241461",
   "metadata": {
    "execution": {
     "iopub.execute_input": "2024-05-01T03:56:48.778236Z",
     "iopub.status.busy": "2024-05-01T03:56:48.777401Z",
     "iopub.status.idle": "2024-05-01T03:56:48.801432Z",
     "shell.execute_reply": "2024-05-01T03:56:48.800632Z"
    },
    "papermill": {
     "duration": 0.045013,
     "end_time": "2024-05-01T03:56:48.804118",
     "exception": false,
     "start_time": "2024-05-01T03:56:48.759105",
     "status": "completed"
    },
    "tags": []
   },
   "outputs": [],
   "source": [
    "df_1=df[['month','Continents']].groupby('month',as_index=False).value_counts()"
   ]
  },
  {
   "cell_type": "code",
   "execution_count": 28,
   "id": "65b4c1fe",
   "metadata": {
    "execution": {
     "iopub.execute_input": "2024-05-01T03:56:48.837570Z",
     "iopub.status.busy": "2024-05-01T03:56:48.836871Z",
     "iopub.status.idle": "2024-05-01T03:56:49.769107Z",
     "shell.execute_reply": "2024-05-01T03:56:49.767909Z"
    },
    "papermill": {
     "duration": 0.951644,
     "end_time": "2024-05-01T03:56:49.771113",
     "exception": false,
     "start_time": "2024-05-01T03:56:48.819469",
     "status": "completed"
    },
    "tags": []
   },
   "outputs": [
    {
     "data": {
      "text/plain": [
       "<Axes: xlabel='month', ylabel='count'>"
      ]
     },
     "execution_count": 28,
     "metadata": {},
     "output_type": "execute_result"
    },
    {
     "data": {
      "image/png": "[encoded data removed]",
      "text/plain": [
       "<Figure size 1200x1200 with 1 Axes>"
      ]
     },
     "metadata": {},
     "output_type": "display_data"
    }
   ],
   "source": [
    "plt.figure(figsize=(12,12))\n",
    "sns.barplot(x='month',y='count',hue='Continents',data=df_1)"
   ]
  }
 ],
 "metadata": {
  "kaggle": {
   "accelerator": "none",
   "dataSources": [
    {
     "datasetId": 3682609,
     "sourceId": 6541762,
     "sourceType": "datasetVersion"
    }
   ],
   "dockerImageVersionId": 30558,
   "isGpuEnabled": false,
   "isInternetEnabled": true,
   "language": "python",
   "sourceType": "notebook"
  },
  "kernelspec": {
   "display_name": "Python 3",
   "language": "python",
   "name": "python3"
  },
  "language_info": {
   "codemirror_mode": {
    "name": "ipython",
    "version": 3
   },
   "file_extension": ".py",
   "mimetype": "text/x-python",
   "name": "python",
   "nbconvert_exporter": "python",
   "pygments_lexer": "ipython3",
   "version": "3.10.12"
  },
  "papermill": {
   "default_parameters": {},
   "duration": 14.6068,
   "end_time": "2024-05-01T03:56:50.512187",
   "environment_variables": {},
   "exception": null,
   "input_path": "__notebook__.ipynb",
   "output_path": "__notebook__.ipynb",
   "parameters": {},
   "start_time": "2024-05-01T03:56:35.905387",
   "version": "2.4.0"
  }
 },
 "nbformat": 4,
 "nbformat_minor": 5
}
